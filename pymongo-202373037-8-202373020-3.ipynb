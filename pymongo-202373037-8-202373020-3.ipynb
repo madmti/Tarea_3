{
 "cells": [
  {
   "cell_type": "markdown",
   "id": "d9a866a5",
   "metadata": {},
   "source": [
    "# Tarea 3 : Mongo DB arXiv\n",
    "| ROL         | Nombre          |\n",
    "|-------------|-----------------|\n",
    "| 202373037-8 | Matias Peñaloza |\n",
    "| 202373020-3 | Hans González   |"
   ]
  },
  {
   "cell_type": "code",
   "execution_count": 29,
   "id": "165f316c",
   "metadata": {},
   "outputs": [],
   "source": [
    "from pymongo import MongoClient\n",
    "from pymongo.cursor import Cursor"
   ]
  },
  {
   "cell_type": "code",
   "execution_count": 30,
   "id": "264efdec",
   "metadata": {},
   "outputs": [],
   "source": [
    "client = MongoClient(\"mongodb://mongo1:30001,mongo2:30002,mongo3:30003/?replicaSet=my-replica-set&readPreference=primary&appname=MongoDB%20Compass&ssl=false\")\n",
    "db = client[\"arxiv_db\"]\n",
    "collection = db[\"articles\"]"
   ]
  },
  {
   "cell_type": "code",
   "execution_count": 31,
   "id": "0233c6d5",
   "metadata": {},
   "outputs": [],
   "source": [
    "import json\n",
    "from IPython.display import display, HTML\n",
    "\n",
    "def __print_article(article, fields):\n",
    "    if \"_id\" in fields:\n",
    "        article[\"_id\"] = str(article[\"_id\"])\n",
    "    filtered = {field: article[field] for field in fields if field in article}\n",
    "    json_str = json.dumps(filtered, indent=2, ensure_ascii=False)\n",
    "    json_str = json_str.replace(\"<\", \"&lt;\").replace(\">\", \"&gt;\")\n",
    "    html = f\"<pre>{json_str}</pre><hr>\"\n",
    "    display(HTML(html))\n",
    "\n",
    "def print_articles(articles:Cursor, debug=False):\n",
    "    articles = list(articles)\n",
    "    print(f\"Total de artículos encontrados: {len(articles)}\")\n",
    "    if not articles:\n",
    "        display(HTML(\"<b>No se encontraron artículos.</b>\"))\n",
    "        return\n",
    "    fields = [field for field in articles[0].keys() if field != \"_id\" or debug]\n",
    "    for article in articles:\n",
    "        __print_article(article, fields)"
   ]
  },
  {
   "cell_type": "markdown",
   "id": "7651ae7c",
   "metadata": {},
   "source": [
    "# Consultas\n",
    "### Tipo de documento\n",
    "```js\n",
    "{\n",
    "  \"_id\": ObjectId,\n",
    "  \"id\": string,\n",
    "  \"submitter\": string,\n",
    "  \"authors\": string,\n",
    "  \"title\": string,\n",
    "  \"comments\": string,\n",
    "  \"journal-ref\": string,\n",
    "  \"doi\": string,\n",
    "  \"report-no\": string,\n",
    "  \"categories\": string,\n",
    "  \"license\": string,\n",
    "  \"abstract\": string,\n",
    "  \"versions\": array,\n",
    "  \"update_date\": string, // (YYYY-MM-DD)\n",
    "  \"authors_parsed\": array,\n",
    "  \"pdf_source\": string\n",
    "}\n",
    "```\n",
    "#### a. Devolver los títulos y fechas de creación de artículos publicados en el año 2025. Mostrar solo esos campos y limitar a los primeros 20 resultados."
   ]
  },
  {
   "cell_type": "code",
   "execution_count": 32,
   "id": "4cc0dc6c",
   "metadata": {},
   "outputs": [
    {
     "name": "stdout",
     "output_type": "stream",
     "text": [
      "Total de artículos encontrados: 20\n"
     ]
    },
    {
     "data": {
      "text/html": [
       "<pre>{\n",
       "  \"title\": \"Real singular Del Pezzo surfaces and threefolds fibred by rational curves, I\",\n",
       "  \"update_date\": \"2025-05-26\"\n",
       "}</pre><hr>"
      ],
      "text/plain": [
       "<IPython.core.display.HTML object>"
      ]
     },
     "metadata": {},
     "output_type": "display_data"
    },
    {
     "data": {
      "text/html": [
       "<pre>{\n",
       "  \"title\": \"Hamiltonian Graphs and the Traveling Salesman Problem\",\n",
       "  \"update_date\": \"2025-02-26\"\n",
       "}</pre><hr>"
      ],
      "text/plain": [
       "<IPython.core.display.HTML object>"
      ]
     },
     "metadata": {},
     "output_type": "display_data"
    },
    {
     "data": {
      "text/html": [
       "<pre>{\n",
       "  \"title\": \"Spin-dependent three-nucleon force effects on nucleon-deuteron\\n  scattering\",\n",
       "  \"update_date\": \"2025-03-20\"\n",
       "}</pre><hr>"
      ],
      "text/plain": [
       "<IPython.core.display.HTML object>"
      ]
     },
     "metadata": {},
     "output_type": "display_data"
    },
    {
     "data": {
      "text/html": [
       "<pre>{\n",
       "  \"title\": \"Adjointability of densely defined closed operators and the\\n  Magajna-Schweizer Theorem\",\n",
       "  \"update_date\": \"2025-04-29\"\n",
       "}</pre><hr>"
      ],
      "text/plain": [
       "<IPython.core.display.HTML object>"
      ]
     },
     "metadata": {},
     "output_type": "display_data"
    },
    {
     "data": {
      "text/html": [
       "<pre>{\n",
       "  \"title\": \"Proof of Riemann Hypothesis\",\n",
       "  \"update_date\": \"2025-04-11\"\n",
       "}</pre><hr>"
      ],
      "text/plain": [
       "<IPython.core.display.HTML object>"
      ]
     },
     "metadata": {},
     "output_type": "display_data"
    },
    {
     "data": {
      "text/html": [
       "<pre>{\n",
       "  \"title\": \"Critical fluctuations of time-dependent magnetization in a random-field\\n  Ising model\",\n",
       "  \"update_date\": \"2025-01-06\"\n",
       "}</pre><hr>"
      ],
      "text/plain": [
       "<IPython.core.display.HTML object>"
      ]
     },
     "metadata": {},
     "output_type": "display_data"
    },
    {
     "data": {
      "text/html": [
       "<pre>{\n",
       "  \"title\": \"Gauss--Berezin integral operators and spinors over supergroups\\n  $\\\\mathrm{OSp}(2p|2q)$, and Lagrangian super-Grasmannians\",\n",
       "  \"update_date\": \"2025-02-11\"\n",
       "}</pre><hr>"
      ],
      "text/plain": [
       "<IPython.core.display.HTML object>"
      ]
     },
     "metadata": {},
     "output_type": "display_data"
    },
    {
     "data": {
      "text/html": [
       "<pre>{\n",
       "  \"title\": \"The nature of electromagnetic energy\",\n",
       "  \"update_date\": \"2025-05-16\"\n",
       "}</pre><hr>"
      ],
      "text/plain": [
       "<IPython.core.display.HTML object>"
      ]
     },
     "metadata": {},
     "output_type": "display_data"
    },
    {
     "data": {
      "text/html": [
       "<pre>{\n",
       "  \"title\": \"Periodic relativity: the theory of gravity in flat space time\",\n",
       "  \"update_date\": \"2025-01-16\"\n",
       "}</pre><hr>"
      ],
      "text/plain": [
       "<IPython.core.display.HTML object>"
      ]
     },
     "metadata": {},
     "output_type": "display_data"
    },
    {
     "data": {
      "text/html": [
       "<pre>{\n",
       "  \"title\": \"Quantization of Atomic and Nuclear Rest Masses\",\n",
       "  \"update_date\": \"2025-02-08\"\n",
       "}</pre><hr>"
      ],
      "text/plain": [
       "<IPython.core.display.HTML object>"
      ]
     },
     "metadata": {},
     "output_type": "display_data"
    },
    {
     "data": {
      "text/html": [
       "<pre>{\n",
       "  \"title\": \"Solution of the equation d/dx(pdu/dx)+qu=cu by a solution of the\\n  equation d/dx(pdu/dx)+qu=0\",\n",
       "  \"update_date\": \"2025-05-06\"\n",
       "}</pre><hr>"
      ],
      "text/plain": [
       "<IPython.core.display.HTML object>"
      ]
     },
     "metadata": {},
     "output_type": "display_data"
    },
    {
     "data": {
      "text/html": [
       "<pre>{\n",
       "  \"title\": \"The role of the quark and gluon GPDs in hard vector-meson\\n  electroproduction\",\n",
       "  \"update_date\": \"2025-01-22\"\n",
       "}</pre><hr>"
      ],
      "text/plain": [
       "<IPython.core.display.HTML object>"
      ]
     },
     "metadata": {},
     "output_type": "display_data"
    },
    {
     "data": {
      "text/html": [
       "<pre>{\n",
       "  \"title\": \"The group of automorphisms of a real rational surface is n-transitive\",\n",
       "  \"update_date\": \"2025-05-23\"\n",
       "}</pre><hr>"
      ],
      "text/plain": [
       "<IPython.core.display.HTML object>"
      ]
     },
     "metadata": {},
     "output_type": "display_data"
    },
    {
     "data": {
      "text/html": [
       "<pre>{\n",
       "  \"title\": \"A new weak approximation scheme of stochastic differential equations and\\n  the Runge-Kutta method\",\n",
       "  \"update_date\": \"2025-04-28\"\n",
       "}</pre><hr>"
      ],
      "text/plain": [
       "<IPython.core.display.HTML object>"
      ]
     },
     "metadata": {},
     "output_type": "display_data"
    },
    {
     "data": {
      "text/html": [
       "<pre>{\n",
       "  \"title\": \"Strict essential extensions of C*-algebras and Hilbert C*-modules\",\n",
       "  \"update_date\": \"2025-04-29\"\n",
       "}</pre><hr>"
      ],
      "text/plain": [
       "<IPython.core.display.HTML object>"
      ]
     },
     "metadata": {},
     "output_type": "display_data"
    },
    {
     "data": {
      "text/html": [
       "<pre>{\n",
       "  \"title\": \"Rationalization of EPR Coincidence Experiments\",\n",
       "  \"update_date\": \"2025-04-03\"\n",
       "}</pre><hr>"
      ],
      "text/plain": [
       "<IPython.core.display.HTML object>"
      ]
     },
     "metadata": {},
     "output_type": "display_data"
    },
    {
     "data": {
      "text/html": [
       "<pre>{\n",
       "  \"title\": \"Hard exclusive scattering at Jlab\",\n",
       "  \"update_date\": \"2025-01-22\"\n",
       "}</pre><hr>"
      ],
      "text/plain": [
       "<IPython.core.display.HTML object>"
      ]
     },
     "metadata": {},
     "output_type": "display_data"
    },
    {
     "data": {
      "text/html": [
       "<pre>{\n",
       "  \"title\": \"Ganea and Whitehead definitions for the tangential\\n  Lusternik-Schnirelmann category of foliations\",\n",
       "  \"update_date\": \"2025-03-11\"\n",
       "}</pre><hr>"
      ],
      "text/plain": [
       "<IPython.core.display.HTML object>"
      ]
     },
     "metadata": {},
     "output_type": "display_data"
    },
    {
     "data": {
      "text/html": [
       "<pre>{\n",
       "  \"title\": \"Generating functions for borders\",\n",
       "  \"update_date\": \"2025-03-04\"\n",
       "}</pre><hr>"
      ],
      "text/plain": [
       "<IPython.core.display.HTML object>"
      ]
     },
     "metadata": {},
     "output_type": "display_data"
    },
    {
     "data": {
      "text/html": [
       "<pre>{\n",
       "  \"title\": \"Observation of correlations up to the micrometer scale in sliding\\n  charge-density waves\",\n",
       "  \"update_date\": \"2025-01-08\"\n",
       "}</pre><hr>"
      ],
      "text/plain": [
       "<IPython.core.display.HTML object>"
      ]
     },
     "metadata": {},
     "output_type": "display_data"
    }
   ],
   "source": [
    "res = collection.find({\n",
    "    \"update_date\": {\n",
    "        \"$gte\": \"2025-01-01\",\n",
    "        \"$lt\": \"2026-01-01\"\n",
    "    }\n",
    "}, {\n",
    "    \"title\": 1,\n",
    "    \"update_date\": 1\n",
    "},\n",
    "    limit=20\n",
    ")\n",
    "print_articles(res)"
   ]
  },
  {
   "cell_type": "markdown",
   "id": "8ff4daa8",
   "metadata": {},
   "source": [
    "#### b. Devolver los títulos y los autores de artículos que pertenezcan a las categorías \"cs.AI\" o \"stat.ML\" y que tengan al menos tres autores. Mostrar solo esos campos y limitar a los primeros 10 resultados."
   ]
  },
  {
   "cell_type": "code",
   "execution_count": 33,
   "id": "1238cdb9",
   "metadata": {},
   "outputs": [
    {
     "name": "stdout",
     "output_type": "stream",
     "text": [
      "Total de artículos encontrados: 10\n"
     ]
    },
    {
     "data": {
      "text/html": [
       "<pre>{\n",
       "  \"title\": \"Calculating Valid Domains for BDD-Based Interactive Configuration\",\n",
       "  \"authors_parsed\": [\n",
       "    [\n",
       "      \"Hadzic\",\n",
       "      \"Tarik\",\n",
       "      \"\"\n",
       "    ],\n",
       "    [\n",
       "      \"Jensen\",\n",
       "      \"Rune Moller\",\n",
       "      \"\"\n",
       "    ],\n",
       "    [\n",
       "      \"Andersen\",\n",
       "      \"Henrik Reif\",\n",
       "      \"\"\n",
       "    ]\n",
       "  ]\n",
       "}</pre><hr>"
      ],
      "text/plain": [
       "<IPython.core.display.HTML object>"
      ]
     },
     "metadata": {},
     "output_type": "display_data"
    },
    {
     "data": {
      "text/html": [
       "<pre>{\n",
       "  \"title\": \"Fault Classification in Cylinders Using Multilayer Perceptrons, Support\\n  Vector Machines and Guassian Mixture Models\",\n",
       "  \"authors_parsed\": [\n",
       "    [\n",
       "      \"Marwala\",\n",
       "      \"Tshilidzi\",\n",
       "      \"\"\n",
       "    ],\n",
       "    [\n",
       "      \"Mahola\",\n",
       "      \"Unathi\",\n",
       "      \"\"\n",
       "    ],\n",
       "    [\n",
       "      \"Chakraverty\",\n",
       "      \"Snehashish\",\n",
       "      \"\"\n",
       "    ]\n",
       "  ]\n",
       "}</pre><hr>"
      ],
      "text/plain": [
       "<IPython.core.display.HTML object>"
      ]
     },
     "metadata": {},
     "output_type": "display_data"
    },
    {
     "data": {
      "text/html": [
       "<pre>{\n",
       "  \"title\": \"Learning to Bluff\",\n",
       "  \"authors_parsed\": [\n",
       "    [\n",
       "      \"Hurwitz\",\n",
       "      \"Evan\",\n",
       "      \"\"\n",
       "    ],\n",
       "    [\n",
       "      \"Marwala\",\n",
       "      \"Tshilidzi\",\n",
       "      \"\"\n",
       "    ]\n",
       "  ]\n",
       "}</pre><hr>"
      ],
      "text/plain": [
       "<IPython.core.display.HTML object>"
      ]
     },
     "metadata": {},
     "output_type": "display_data"
    },
    {
     "data": {
      "text/html": [
       "<pre>{\n",
       "  \"title\": \"Soft constraint abstraction based on semiring homomorphism\",\n",
       "  \"authors_parsed\": [\n",
       "    [\n",
       "      \"Li\",\n",
       "      \"Sanjiang\",\n",
       "      \"\"\n",
       "    ],\n",
       "    [\n",
       "      \"Ying\",\n",
       "      \"Mingsheng\",\n",
       "      \"\"\n",
       "    ]\n",
       "  ]\n",
       "}</pre><hr>"
      ],
      "text/plain": [
       "<IPython.core.display.HTML object>"
      ]
     },
     "metadata": {},
     "output_type": "display_data"
    },
    {
     "data": {
      "text/html": [
       "<pre>{\n",
       "  \"title\": \"Bayesian Approach to Neuro-Rough Models\",\n",
       "  \"authors_parsed\": [\n",
       "    [\n",
       "      \"Marwala\",\n",
       "      \"Tshilidzi\",\n",
       "      \"\"\n",
       "    ],\n",
       "    [\n",
       "      \"Crossingham\",\n",
       "      \"Bodie\",\n",
       "      \"\"\n",
       "    ]\n",
       "  ]\n",
       "}</pre><hr>"
      ],
      "text/plain": [
       "<IPython.core.display.HTML object>"
      ]
     },
     "metadata": {},
     "output_type": "display_data"
    },
    {
     "data": {
      "text/html": [
       "<pre>{\n",
       "  \"title\": \"Artificial Neural Networks and Support Vector Machines for Water Demand\\n  Time Series Forecasting\",\n",
       "  \"authors_parsed\": [\n",
       "    [\n",
       "      \"Msiza\",\n",
       "      \"Ishmael S.\",\n",
       "      \"\"\n",
       "    ],\n",
       "    [\n",
       "      \"Nelwamondo\",\n",
       "      \"Fulufhelo V.\",\n",
       "      \"\"\n",
       "    ],\n",
       "    [\n",
       "      \"Marwala\",\n",
       "      \"Tshilidzi\",\n",
       "      \"\"\n",
       "    ]\n",
       "  ]\n",
       "}</pre><hr>"
      ],
      "text/plain": [
       "<IPython.core.display.HTML object>"
      ]
     },
     "metadata": {},
     "output_type": "display_data"
    },
    {
     "data": {
      "text/html": [
       "<pre>{\n",
       "  \"title\": \"Fuzzy Artmap and Neural Network Approach to Online Processing of Inputs\\n  with Missing Values\",\n",
       "  \"authors_parsed\": [\n",
       "    [\n",
       "      \"Nelwamondo\",\n",
       "      \"F. V.\",\n",
       "      \"\"\n",
       "    ],\n",
       "    [\n",
       "      \"Marwala\",\n",
       "      \"T.\",\n",
       "      \"\"\n",
       "    ]\n",
       "  ]\n",
       "}</pre><hr>"
      ],
      "text/plain": [
       "<IPython.core.display.HTML object>"
      ]
     },
     "metadata": {},
     "output_type": "display_data"
    },
    {
     "data": {
      "text/html": [
       "<pre>{\n",
       "  \"title\": \"Artificial Intelligence for Conflict Management\",\n",
       "  \"authors_parsed\": [\n",
       "    [\n",
       "      \"Habtemariam\",\n",
       "      \"E.\",\n",
       "      \"\"\n",
       "    ],\n",
       "    [\n",
       "      \"Marwala\",\n",
       "      \"T.\",\n",
       "      \"\"\n",
       "    ],\n",
       "    [\n",
       "      \"Lagazio\",\n",
       "      \"M.\",\n",
       "      \"\"\n",
       "    ]\n",
       "  ]\n",
       "}</pre><hr>"
      ],
      "text/plain": [
       "<IPython.core.display.HTML object>"
      ]
     },
     "metadata": {},
     "output_type": "display_data"
    },
    {
     "data": {
      "text/html": [
       "<pre>{\n",
       "  \"title\": \"Evolving Symbolic Controllers\",\n",
       "  \"authors_parsed\": [\n",
       "    [\n",
       "      \"Godzik\",\n",
       "      \"Nicolas\",\n",
       "      \"\",\n",
       "      \"INRIA Futurs, INRIA Rocquencourt\"\n",
       "    ],\n",
       "    [\n",
       "      \"Schoenauer\",\n",
       "      \"Marc\",\n",
       "      \"\",\n",
       "      \"INRIA Futurs, INRIA Rocquencourt\"\n",
       "    ],\n",
       "    [\n",
       "      \"Sebag\",\n",
       "      \"Michèle\",\n",
       "      \"\",\n",
       "      \"INRIA Futurs, LRI\"\n",
       "    ]\n",
       "  ]\n",
       "}</pre><hr>"
      ],
      "text/plain": [
       "<IPython.core.display.HTML object>"
      ]
     },
     "metadata": {},
     "output_type": "display_data"
    },
    {
     "data": {
      "text/html": [
       "<pre>{\n",
       "  \"title\": \"Robust Multi-Cellular Developmental Design\",\n",
       "  \"authors_parsed\": [\n",
       "    [\n",
       "      \"Devert\",\n",
       "      \"Alexandre\",\n",
       "      \"\",\n",
       "      \"INRIA Futurs\"\n",
       "    ],\n",
       "    [\n",
       "      \"Bredèche\",\n",
       "      \"Nicolas\",\n",
       "      \"\",\n",
       "      \"INRIA Futurs\"\n",
       "    ],\n",
       "    [\n",
       "      \"Schoenauer\",\n",
       "      \"Marc\",\n",
       "      \"\",\n",
       "      \"INRIA Futurs\"\n",
       "    ]\n",
       "  ]\n",
       "}</pre><hr>"
      ],
      "text/plain": [
       "<IPython.core.display.HTML object>"
      ]
     },
     "metadata": {},
     "output_type": "display_data"
    }
   ],
   "source": [
    "res = collection.find({\n",
    "    \"$expr\": {\n",
    "        \"$gte\": [3 , {\"$size\": \"$authors_parsed\"}]\n",
    "    },\n",
    "    \"categories\": {\n",
    "        \"$in\": [\"cs.AI\", \"stat.ML\"]\n",
    "    }\n",
    "}, {\n",
    "    \"title\": 1,\n",
    "    \"authors_parsed\": 1,\n",
    "},\n",
    "    limit=10\n",
    ")\n",
    "print_articles(res)"
   ]
  },
  {
   "cell_type": "markdown",
   "id": "709603d5",
   "metadata": {},
   "source": [
    "#### c. Devolver los títulos, las categorías y los enlaces al PDF de artículos que pertenezcan a la categoría \"hep-ph\" y tengan un DOI asignado. Mostrar solo esos campos y limitar a 15 resultados.\n"
   ]
  },
  {
   "cell_type": "code",
   "execution_count": 34,
   "id": "7e7bf5f0",
   "metadata": {},
   "outputs": [
    {
     "name": "stdout",
     "output_type": "stream",
     "text": [
      "Total de artículos encontrados: 15\n"
     ]
    },
    {
     "data": {
      "text/html": [
       "<pre>{\n",
       "  \"title\": \"Calculation of prompt diphoton production cross sections at Tevatron and\\n  LHC energies\",\n",
       "  \"categories\": \"hep-ph\",\n",
       "  \"pdf_source\": \"https://arxiv.org/pdf/0704.0001\"\n",
       "}</pre><hr>"
      ],
      "text/plain": [
       "<IPython.core.display.HTML object>"
      ]
     },
     "metadata": {},
     "output_type": "display_data"
    },
    {
     "data": {
      "text/html": [
       "<pre>{\n",
       "  \"title\": \"Lifetime of doubly charmed baryons\",\n",
       "  \"categories\": \"hep-ph\",\n",
       "  \"pdf_source\": \"https://arxiv.org/pdf/0704.0016\"\n",
       "}</pre><hr>"
      ],
      "text/plain": [
       "<IPython.core.display.HTML object>"
      ]
     },
     "metadata": {},
     "output_type": "display_data"
    },
    {
     "data": {
      "text/html": [
       "<pre>{\n",
       "  \"title\": \"Understanding the Flavor Symmetry Breaking and Nucleon Flavor-Spin\\n  Structure within Chiral Quark Model\",\n",
       "  \"categories\": \"hep-ph\",\n",
       "  \"pdf_source\": \"https://arxiv.org/pdf/0704.0029\"\n",
       "}</pre><hr>"
      ],
      "text/plain": [
       "<IPython.core.display.HTML object>"
      ]
     },
     "metadata": {},
     "output_type": "display_data"
    },
    {
     "data": {
      "text/html": [
       "<pre>{\n",
       "  \"title\": \"Crystal channeling of LHC forward protons with preserved distribution in\\n  phase space\",\n",
       "  \"categories\": \"hep-ph\",\n",
       "  \"pdf_source\": \"https://arxiv.org/pdf/0704.0031\"\n",
       "}</pre><hr>"
      ],
      "text/plain": [
       "<IPython.core.display.HTML object>"
      ]
     },
     "metadata": {},
     "output_type": "display_data"
    },
    {
     "data": {
      "text/html": [
       "<pre>{\n",
       "  \"title\": \"Probing non-standard neutrino interactions with supernova neutrinos\",\n",
       "  \"categories\": \"hep-ph\",\n",
       "  \"pdf_source\": \"https://arxiv.org/pdf/0704.0032\"\n",
       "}</pre><hr>"
      ],
      "text/plain": [
       "<IPython.core.display.HTML object>"
      ]
     },
     "metadata": {},
     "output_type": "display_data"
    },
    {
     "data": {
      "text/html": [
       "<pre>{\n",
       "  \"title\": \"Towards self-consistent definition of instanton liquid parameters\",\n",
       "  \"categories\": \"hep-ph\",\n",
       "  \"pdf_source\": \"https://arxiv.org/pdf/0704.0141\"\n",
       "}</pre><hr>"
      ],
      "text/plain": [
       "<IPython.core.display.HTML object>"
      ]
     },
     "metadata": {},
     "output_type": "display_data"
    },
    {
     "data": {
      "text/html": [
       "<pre>{\n",
       "  \"title\": \"Instanton Liquid at Finite Temperature and Chemical Potential of Quarks\",\n",
       "  \"categories\": \"hep-ph\",\n",
       "  \"pdf_source\": \"https://arxiv.org/pdf/0704.0143\"\n",
       "}</pre><hr>"
      ],
      "text/plain": [
       "<IPython.core.display.HTML object>"
      ]
     },
     "metadata": {},
     "output_type": "display_data"
    },
    {
     "data": {
      "text/html": [
       "<pre>{\n",
       "  \"title\": \"Very strong and slowly varying magnetic fields as source of axions\",\n",
       "  \"categories\": \"hep-ph\",\n",
       "  \"pdf_source\": \"https://arxiv.org/pdf/0704.0169\"\n",
       "}</pre><hr>"
      ],
      "text/plain": [
       "<IPython.core.display.HTML object>"
      ]
     },
     "metadata": {},
     "output_type": "display_data"
    },
    {
     "data": {
      "text/html": [
       "<pre>{\n",
       "  \"title\": \"Dark energy and neutrino model in SUSY -- Remarks on active and sterile\\n  neutrinos mixing --\",\n",
       "  \"categories\": \"hep-ph\",\n",
       "  \"pdf_source\": \"https://arxiv.org/pdf/0704.0186\"\n",
       "}</pre><hr>"
      ],
      "text/plain": [
       "<IPython.core.display.HTML object>"
      ]
     },
     "metadata": {},
     "output_type": "display_data"
    },
    {
     "data": {
      "text/html": [
       "<pre>{\n",
       "  \"title\": \"Remarks on N_c dependence of decays of exotic baryons\",\n",
       "  \"categories\": \"hep-ph\",\n",
       "  \"pdf_source\": \"https://arxiv.org/pdf/0704.0196\"\n",
       "}</pre><hr>"
      ],
      "text/plain": [
       "<IPython.core.display.HTML object>"
      ]
     },
     "metadata": {},
     "output_type": "display_data"
    },
    {
     "data": {
      "text/html": [
       "<pre>{\n",
       "  \"title\": \"Unravelling the sbottom spin at the CERN LHC\",\n",
       "  \"categories\": \"hep-ph\",\n",
       "  \"pdf_source\": \"https://arxiv.org/pdf/0704.0254\"\n",
       "}</pre><hr>"
      ],
      "text/plain": [
       "<IPython.core.display.HTML object>"
      ]
     },
     "metadata": {},
     "output_type": "display_data"
    },
    {
     "data": {
      "text/html": [
       "<pre>{\n",
       "  \"title\": \"A practical Seedless Infrared-Safe Cone jet algorithm\",\n",
       "  \"categories\": \"hep-ph\",\n",
       "  \"pdf_source\": \"https://arxiv.org/pdf/0704.0292\"\n",
       "}</pre><hr>"
      ],
      "text/plain": [
       "<IPython.core.display.HTML object>"
      ]
     },
     "metadata": {},
     "output_type": "display_data"
    },
    {
     "data": {
      "text/html": [
       "<pre>{\n",
       "  \"title\": \"Isospin breaking in the yield of heavy meson pairs in e+e- annihilation\\n  near threshold\",\n",
       "  \"categories\": \"hep-ph\",\n",
       "  \"pdf_source\": \"https://arxiv.org/pdf/0704.0293\"\n",
       "}</pre><hr>"
      ],
      "text/plain": [
       "<IPython.core.display.HTML object>"
      ]
     },
     "metadata": {},
     "output_type": "display_data"
    },
    {
     "data": {
      "text/html": [
       "<pre>{\n",
       "  \"title\": \"Electroweak phase transitions in the MSSM with an extra $U(1)'$\",\n",
       "  \"categories\": \"hep-ph\",\n",
       "  \"pdf_source\": \"https://arxiv.org/pdf/0704.0328\"\n",
       "}</pre><hr>"
      ],
      "text/plain": [
       "<IPython.core.display.HTML object>"
      ]
     },
     "metadata": {},
     "output_type": "display_data"
    },
    {
     "data": {
      "text/html": [
       "<pre>{\n",
       "  \"title\": \"Random Matrix Theory at Nonzero $\\\\mu$ and $T$\",\n",
       "  \"categories\": \"hep-ph\",\n",
       "  \"pdf_source\": \"https://arxiv.org/pdf/0704.0330\"\n",
       "}</pre><hr>"
      ],
      "text/plain": [
       "<IPython.core.display.HTML object>"
      ]
     },
     "metadata": {},
     "output_type": "display_data"
    }
   ],
   "source": [
    "res = collection.find({\n",
    "    \"categories\": \"hep-ph\",\n",
    "    \"doi\": { \"$ne\": None }\n",
    "}, {\n",
    "    \"title\": 1,\n",
    "    \"categories\": 1,\n",
    "    \"pdf_source\": 1,\n",
    "},\n",
    "    limit=15\n",
    ")\n",
    "print_articles(res)"
   ]
  },
  {
   "cell_type": "markdown",
   "id": "5b08f040",
   "metadata": {},
   "source": [
    "#### d. Devolver los títulos, nombres de los autores y la referencia de publicación (journal-ref) de los artículos que tengan un DOI asignado. Mostrar solo esos campos y ordenar los resultados alfabéticamente por título. Limitar a los primeros 20 resultados.\n"
   ]
  },
  {
   "cell_type": "code",
   "execution_count": 35,
   "id": "07336101",
   "metadata": {},
   "outputs": [
    {
     "name": "stdout",
     "output_type": "stream",
     "text": [
      "Total de artículos encontrados: 20\n"
     ]
    },
    {
     "data": {
      "text/html": [
       "<pre>{\n",
       "  \"title\": \"!-Graphs with Trivial Overlap are Context-Free\",\n",
       "  \"journal-ref\": \"EPTCS 181, 2015, pp. 16-31\",\n",
       "  \"authors_parsed\": [\n",
       "    [\n",
       "      \"Kissinger\",\n",
       "      \"Aleks\",\n",
       "      \"\",\n",
       "      \"University of Oxford\"\n",
       "    ],\n",
       "    [\n",
       "      \"Zamdzhiev\",\n",
       "      \"Vladimir\",\n",
       "      \"\",\n",
       "      \"University\\n  of Oxford\"\n",
       "    ]\n",
       "  ]\n",
       "}</pre><hr>"
      ],
      "text/plain": [
       "<IPython.core.display.HTML object>"
      ]
     },
     "metadata": {},
     "output_type": "display_data"
    },
    {
     "data": {
      "text/html": [
       "<pre>{\n",
       "  \"title\": \"\\\"$1k_F$\\\" Singularities and Finite Density ABJM Theory at Strong Coupling\",\n",
       "  \"journal-ref\": null,\n",
       "  \"authors_parsed\": [\n",
       "    [\n",
       "      \"Henriksson\",\n",
       "      \"Oscar\",\n",
       "      \"\"\n",
       "    ],\n",
       "    [\n",
       "      \"Rosen\",\n",
       "      \"Christopher\",\n",
       "      \"\"\n",
       "    ]\n",
       "  ]\n",
       "}</pre><hr>"
      ],
      "text/plain": [
       "<IPython.core.display.HTML object>"
      ]
     },
     "metadata": {},
     "output_type": "display_data"
    },
    {
     "data": {
      "text/html": [
       "<pre>{\n",
       "  \"title\": \"\\\"(Weitergeleitet von Journalistin)\\\": The Gendered Presentation of\\n  Professions on Wikipedia\",\n",
       "  \"journal-ref\": null,\n",
       "  \"authors_parsed\": [\n",
       "    [\n",
       "      \"Zagovora\",\n",
       "      \"Olga\",\n",
       "      \"\",\n",
       "      \"1 and 2\"\n",
       "    ],\n",
       "    [\n",
       "      \"Flöck\",\n",
       "      \"Fabian\",\n",
       "      \"\",\n",
       "      \"1 and 2\"\n",
       "    ],\n",
       "    [\n",
       "      \"Wagner\",\n",
       "      \"Claudia\",\n",
       "      \"\",\n",
       "      \"1 and 2\"\n",
       "    ]\n",
       "  ]\n",
       "}</pre><hr>"
      ],
      "text/plain": [
       "<IPython.core.display.HTML object>"
      ]
     },
     "metadata": {},
     "output_type": "display_data"
    },
    {
     "data": {
      "text/html": [
       "<pre>{\n",
       "  \"title\": \"\\\"+-+\\\" Brane Model Phenomenology\",\n",
       "  \"journal-ref\": \"JHEP 0011 (2000) 018\",\n",
       "  \"authors_parsed\": [\n",
       "    [\n",
       "      \"Mouslopoulos\",\n",
       "      \"Stavros\",\n",
       "      \"\",\n",
       "      \"Oxford University\"\n",
       "    ],\n",
       "    [\n",
       "      \"Papazoglou\",\n",
       "      \"Antonios\",\n",
       "      \"\",\n",
       "      \"Oxford University\"\n",
       "    ]\n",
       "  ]\n",
       "}</pre><hr>"
      ],
      "text/plain": [
       "<IPython.core.display.HTML object>"
      ]
     },
     "metadata": {},
     "output_type": "display_data"
    },
    {
     "data": {
      "text/html": [
       "<pre>{\n",
       "  \"title\": \"\\\"A Hint From the Inter-Family Mass Hierarchy: Two Vector-Like Families\\n  in the TeV range\\\"\",\n",
       "  \"journal-ref\": \"Phys.Rev.D51:2451-2462,1995\",\n",
       "  \"authors_parsed\": [\n",
       "    [\n",
       "      \"Babu\",\n",
       "      \"K. S.\",\n",
       "      \"\"\n",
       "    ],\n",
       "    [\n",
       "      \"Pati\",\n",
       "      \"Jogesh C.\",\n",
       "      \"\"\n",
       "    ],\n",
       "    [\n",
       "      \"Stremnitzer\",\n",
       "      \"Hanns\",\n",
       "      \"\"\n",
       "    ]\n",
       "  ]\n",
       "}</pre><hr>"
      ],
      "text/plain": [
       "<IPython.core.display.HTML object>"
      ]
     },
     "metadata": {},
     "output_type": "display_data"
    },
    {
     "data": {
      "text/html": [
       "<pre>{\n",
       "  \"title\": \"\\\"A Posteriori\\\" Limited High Order and Robust Residual Distribution\\n  Schemes for Transient Simulations of Fluid Flows in Gas Dynamics\",\n",
       "  \"journal-ref\": null,\n",
       "  \"authors_parsed\": [\n",
       "    [\n",
       "      \"Bacigaluppi\",\n",
       "      \"Paola\",\n",
       "      \"\"\n",
       "    ],\n",
       "    [\n",
       "      \"Abgrall\",\n",
       "      \"Rémi\",\n",
       "      \"\"\n",
       "    ],\n",
       "    [\n",
       "      \"Tokareva\",\n",
       "      \"Svetlana\",\n",
       "      \"\"\n",
       "    ]\n",
       "  ]\n",
       "}</pre><hr>"
      ],
      "text/plain": [
       "<IPython.core.display.HTML object>"
      ]
     },
     "metadata": {},
     "output_type": "display_data"
    },
    {
     "data": {
      "text/html": [
       "<pre>{\n",
       "  \"title\": \"\\\"A Solvable Hamiltonian System\\\" Integrability and Action-Angle Variables\",\n",
       "  \"journal-ref\": \"J.Math.Phys. 38 (1997) 1577-1582\",\n",
       "  \"authors_parsed\": [\n",
       "    [\n",
       "      \"Karimipour\",\n",
       "      \"V.\",\n",
       "      \"\"\n",
       "    ]\n",
       "  ]\n",
       "}</pre><hr>"
      ],
      "text/plain": [
       "<IPython.core.display.HTML object>"
      ]
     },
     "metadata": {},
     "output_type": "display_data"
    },
    {
     "data": {
      "text/html": [
       "<pre>{\n",
       "  \"title\": \"\\\"Ab initio\\\" models of galaxy formation: successes and open problems\",\n",
       "  \"journal-ref\": null,\n",
       "  \"authors_parsed\": [\n",
       "    [\n",
       "      \"De Lucia\",\n",
       "      \"Gabriella\",\n",
       "      \"\"\n",
       "    ]\n",
       "  ]\n",
       "}</pre><hr>"
      ],
      "text/plain": [
       "<IPython.core.display.HTML object>"
      ]
     },
     "metadata": {},
     "output_type": "display_data"
    },
    {
     "data": {
      "text/html": [
       "<pre>{\n",
       "  \"title\": \"\\\"Active-set complexity\\\" of proximal gradient: How long does it take to\\n  find the sparsity pattern?\",\n",
       "  \"journal-ref\": null,\n",
       "  \"authors_parsed\": [\n",
       "    [\n",
       "      \"Nutini\",\n",
       "      \"Julie\",\n",
       "      \"\"\n",
       "    ],\n",
       "    [\n",
       "      \"Schmidt\",\n",
       "      \"Mark\",\n",
       "      \"\"\n",
       "    ],\n",
       "    [\n",
       "      \"Hare\",\n",
       "      \"Warren\",\n",
       "      \"\"\n",
       "    ]\n",
       "  ]\n",
       "}</pre><hr>"
      ],
      "text/plain": [
       "<IPython.core.display.HTML object>"
      ]
     },
     "metadata": {},
     "output_type": "display_data"
    },
    {
     "data": {
      "text/html": [
       "<pre>{\n",
       "  \"title\": \"\\\"Actuation at a distance\\\" of microelectromechanical systems using\\n  photoelectrowetting: proof-of-concept\",\n",
       "  \"journal-ref\": \"Appl. Phys. Lett. 100, 224103 (2012)\",\n",
       "  \"authors_parsed\": [\n",
       "    [\n",
       "      \"Gaudet\",\n",
       "      \"Matthieu\",\n",
       "      \"\"\n",
       "    ],\n",
       "    [\n",
       "      \"Arscott\",\n",
       "      \"Steve\",\n",
       "      \"\"\n",
       "    ]\n",
       "  ]\n",
       "}</pre><hr>"
      ],
      "text/plain": [
       "<IPython.core.display.HTML object>"
      ]
     },
     "metadata": {},
     "output_type": "display_data"
    },
    {
     "data": {
      "text/html": [
       "<pre>{\n",
       "  \"title\": \"\\\"Advanced\\\" data reduction for the AMBER instrument\",\n",
       "  \"journal-ref\": null,\n",
       "  \"authors_parsed\": [\n",
       "    [\n",
       "      \"Millour\",\n",
       "      \"Florentin\",\n",
       "      \"\",\n",
       "      \"MPIFR\"\n",
       "    ],\n",
       "    [\n",
       "      \"Valat\",\n",
       "      \"Bruno\",\n",
       "      \"\",\n",
       "      \"FIZEAU\"\n",
       "    ],\n",
       "    [\n",
       "      \"Petrov\",\n",
       "      \"Romain\",\n",
       "      \"\",\n",
       "      \"FIZEAU\"\n",
       "    ],\n",
       "    [\n",
       "      \"Vannier\",\n",
       "      \"Martin\",\n",
       "      \"\",\n",
       "      \"FIZEAU\"\n",
       "    ]\n",
       "  ]\n",
       "}</pre><hr>"
      ],
      "text/plain": [
       "<IPython.core.display.HTML object>"
      ]
     },
     "metadata": {},
     "output_type": "display_data"
    },
    {
     "data": {
      "text/html": [
       "<pre>{\n",
       "  \"title\": \"\\\"All of the White People Went First\\\": How Video Conferencing\\n  Consolidates Control and Exacerbates Workplace Bias\",\n",
       "  \"journal-ref\": null,\n",
       "  \"authors_parsed\": [\n",
       "    [\n",
       "      \"Houtti\",\n",
       "      \"Mo\",\n",
       "      \"\"\n",
       "    ],\n",
       "    [\n",
       "      \"Zhou\",\n",
       "      \"Moyan\",\n",
       "      \"\"\n",
       "    ],\n",
       "    [\n",
       "      \"Terveen\",\n",
       "      \"Loren\",\n",
       "      \"\"\n",
       "    ],\n",
       "    [\n",
       "      \"Chancellor\",\n",
       "      \"Stevie\",\n",
       "      \"\"\n",
       "    ]\n",
       "  ]\n",
       "}</pre><hr>"
      ],
      "text/plain": [
       "<IPython.core.display.HTML object>"
      ]
     },
     "metadata": {},
     "output_type": "display_data"
    },
    {
     "data": {
      "text/html": [
       "<pre>{\n",
       "  \"title\": \"\\\"All that matter ... in one Big Bang ...,\\\" & other cosmological\\n  singularities\",\n",
       "  \"journal-ref\": \"Galaxies 2018, 6, 25\",\n",
       "  \"authors_parsed\": [\n",
       "    [\n",
       "      \"Elizalde\",\n",
       "      \"Emilio\",\n",
       "      \"\"\n",
       "    ]\n",
       "  ]\n",
       "}</pre><hr>"
      ],
      "text/plain": [
       "<IPython.core.display.HTML object>"
      ]
     },
     "metadata": {},
     "output_type": "display_data"
    },
    {
     "data": {
      "text/html": [
       "<pre>{\n",
       "  \"title\": \"\\\"All versus nothing\\\" inseparability for two observers\",\n",
       "  \"journal-ref\": \"Phys. Rev. Lett. 87 (2001) 010403\",\n",
       "  \"authors_parsed\": [\n",
       "    [\n",
       "      \"Cabello\",\n",
       "      \"Adan\",\n",
       "      \"\"\n",
       "    ]\n",
       "  ]\n",
       "}</pre><hr>"
      ],
      "text/plain": [
       "<IPython.core.display.HTML object>"
      ]
     },
     "metadata": {},
     "output_type": "display_data"
    },
    {
     "data": {
      "text/html": [
       "<pre>{\n",
       "  \"title\": \"\\\"All-versus-nothing\\\" nonlocality test of quantum mechanics by two-photon\\n  hyperentanglement\",\n",
       "  \"journal-ref\": \"Phys. Rev. Lett. 95, 240405 (2005)\",\n",
       "  \"authors_parsed\": [\n",
       "    [\n",
       "      \"Cinelli\",\n",
       "      \"C.\",\n",
       "      \"\"\n",
       "    ],\n",
       "    [\n",
       "      \"Barbieri\",\n",
       "      \"M.\",\n",
       "      \"\"\n",
       "    ],\n",
       "    [\n",
       "      \"Perris\",\n",
       "      \"R.\",\n",
       "      \"\"\n",
       "    ],\n",
       "    [\n",
       "      \"Mataloni\",\n",
       "      \"P.\",\n",
       "      \"\"\n",
       "    ],\n",
       "    [\n",
       "      \"De Martini\",\n",
       "      \"F.\",\n",
       "      \"\"\n",
       "    ]\n",
       "  ]\n",
       "}</pre><hr>"
      ],
      "text/plain": [
       "<IPython.core.display.HTML object>"
      ]
     },
     "metadata": {},
     "output_type": "display_data"
    },
    {
     "data": {
      "text/html": [
       "<pre>{\n",
       "  \"title\": \"\\\"All-versus-nothing\\\" proof of genuine tripartite steering and\\n  entanglement certification in the two-sided device-independent scenario\",\n",
       "  \"journal-ref\": \"Quantum Stud.: Math. Found. 9, 175-198 (2022)\",\n",
       "  \"authors_parsed\": [\n",
       "    [\n",
       "      \"Gupta\",\n",
       "      \"Shashank\",\n",
       "      \"\"\n",
       "    ],\n",
       "    [\n",
       "      \"Das\",\n",
       "      \"Debarshi\",\n",
       "      \"\"\n",
       "    ],\n",
       "    [\n",
       "      \"Jebarathinam\",\n",
       "      \"C.\",\n",
       "      \"\"\n",
       "    ],\n",
       "    [\n",
       "      \"Roy\",\n",
       "      \"Arup\",\n",
       "      \"\"\n",
       "    ],\n",
       "    [\n",
       "      \"Datta\",\n",
       "      \"Shounak\",\n",
       "      \"\"\n",
       "    ],\n",
       "    [\n",
       "      \"Majumdar\",\n",
       "      \"A. S.\",\n",
       "      \"\"\n",
       "    ]\n",
       "  ]\n",
       "}</pre><hr>"
      ],
      "text/plain": [
       "<IPython.core.display.HTML object>"
      ]
     },
     "metadata": {},
     "output_type": "display_data"
    },
    {
     "data": {
      "text/html": [
       "<pre>{\n",
       "  \"title\": \"\\\"Am I Private and If So, how Many?\\\" - Communicating Privacy Guarantees\\n  of Differential Privacy with Risk Communication Formats\",\n",
       "  \"journal-ref\": null,\n",
       "  \"authors_parsed\": [\n",
       "    [\n",
       "      \"Franzen\",\n",
       "      \"Daniel\",\n",
       "      \"\"\n",
       "    ],\n",
       "    [\n",
       "      \"von Voigt\",\n",
       "      \"Saskia Nuñez\",\n",
       "      \"\"\n",
       "    ],\n",
       "    [\n",
       "      \"Sörries\",\n",
       "      \"Peter\",\n",
       "      \"\"\n",
       "    ],\n",
       "    [\n",
       "      \"Tschorsch\",\n",
       "      \"Florian\",\n",
       "      \"\"\n",
       "    ],\n",
       "    [\n",
       "      \"Müller-Birn\",\n",
       "      \"Claudia\",\n",
       "      \"\"\n",
       "    ]\n",
       "  ]\n",
       "}</pre><hr>"
      ],
      "text/plain": [
       "<IPython.core.display.HTML object>"
      ]
     },
     "metadata": {},
     "output_type": "display_data"
    },
    {
     "data": {
      "text/html": [
       "<pre>{\n",
       "  \"title\": \"\\\"An Adapt-or-Die Type of Situation\\\": Perception, Adoption, and Use of\\n  Text-To-Image-Generation AI by Game Industry Professionals\",\n",
       "  \"journal-ref\": \"Proc. ACM Hum.-Comput. Interact., Vol. 7, No. CHI PLAY, 2023,\\n  Article 379\",\n",
       "  \"authors_parsed\": [\n",
       "    [\n",
       "      \"Vimpari\",\n",
       "      \"Veera\",\n",
       "      \"\"\n",
       "    ],\n",
       "    [\n",
       "      \"Kultima\",\n",
       "      \"Annakaisa\",\n",
       "      \"\"\n",
       "    ],\n",
       "    [\n",
       "      \"Hämäläinen\",\n",
       "      \"Perttu\",\n",
       "      \"\"\n",
       "    ],\n",
       "    [\n",
       "      \"Guckelsberger\",\n",
       "      \"Christian\",\n",
       "      \"\"\n",
       "    ]\n",
       "  ]\n",
       "}</pre><hr>"
      ],
      "text/plain": [
       "<IPython.core.display.HTML object>"
      ]
     },
     "metadata": {},
     "output_type": "display_data"
    },
    {
     "data": {
      "text/html": [
       "<pre>{\n",
       "  \"title\": \"\\\"An Image is Worth a Thousand Features\\\": Scalable Product\\n  Representations for In-Session Type-Ahead Personalization\",\n",
       "  \"journal-ref\": null,\n",
       "  \"authors_parsed\": [\n",
       "    [\n",
       "      \"Yu\",\n",
       "      \"Bingqing\",\n",
       "      \"\"\n",
       "    ],\n",
       "    [\n",
       "      \"Tagliabue\",\n",
       "      \"Jacopo\",\n",
       "      \"\"\n",
       "    ],\n",
       "    [\n",
       "      \"Greco\",\n",
       "      \"Ciro\",\n",
       "      \"\"\n",
       "    ],\n",
       "    [\n",
       "      \"Bianchi\",\n",
       "      \"Federico\",\n",
       "      \"\"\n",
       "    ]\n",
       "  ]\n",
       "}</pre><hr>"
      ],
      "text/plain": [
       "<IPython.core.display.HTML object>"
      ]
     },
     "metadata": {},
     "output_type": "display_data"
    },
    {
     "data": {
      "text/html": [
       "<pre>{\n",
       "  \"title\": \"\\\"An SO(10) Solution to the Puzzle of Quark and Lepton Masses\\\"\",\n",
       "  \"journal-ref\": \"Phys.Rev.Lett.75:2088-2091,1995\",\n",
       "  \"authors_parsed\": [\n",
       "    [\n",
       "      \"Babu\",\n",
       "      \"K. S.\",\n",
       "      \"\"\n",
       "    ],\n",
       "    [\n",
       "      \"Barr\",\n",
       "      \"S. M.\",\n",
       "      \"\"\n",
       "    ]\n",
       "  ]\n",
       "}</pre><hr>"
      ],
      "text/plain": [
       "<IPython.core.display.HTML object>"
      ]
     },
     "metadata": {},
     "output_type": "display_data"
    }
   ],
   "source": [
    "res = collection.find({\n",
    "    \"doi\": {\"$ne\": None },\n",
    "}, {\n",
    "    \"title\": 1,\n",
    "    \"authors_parsed\": 1,\n",
    "    \"journal-ref\": 1,\n",
    "},\n",
    "    limit=20,\n",
    "    sort=[\n",
    "        (\"title\", 1)\n",
    "    ]\n",
    ")\n",
    "print_articles(res)"
   ]
  },
  {
   "cell_type": "markdown",
   "id": "b39d9db2",
   "metadata": {},
   "source": [
    "#### e. Devolver los títulos y la fecha de la primera versión (versions.created) de los artículos enviados entre los años 2010 y 2015. Mostrar solo esos campos y limitar a los primeros 15 resultados.\n"
   ]
  },
  {
   "cell_type": "code",
   "execution_count": 36,
   "id": "e65a1df8",
   "metadata": {},
   "outputs": [
    {
     "name": "stdout",
     "output_type": "stream",
     "text": [
      "Total de artículos encontrados: 15\n"
     ]
    },
    {
     "data": {
      "text/html": [
       "<pre>{\n",
       "  \"title\": \"From dyadic $\\\\Lambda_{\\\\alpha}$ to $\\\\Lambda_{\\\\alpha}$\",\n",
       "  \"created\": \"Mon, 2 Apr 2007 18:09:58 GMT\"\n",
       "}</pre><hr>"
      ],
      "text/plain": [
       "<IPython.core.display.HTML object>"
      ]
     },
     "metadata": {},
     "output_type": "display_data"
    },
    {
     "data": {
      "text/html": [
       "<pre>{\n",
       "  \"title\": \"The Spitzer c2d Survey of Large, Nearby, Insterstellar Clouds. IX. The\\n  Serpens YSO Population As Observed With IRAC and MIPS\",\n",
       "  \"created\": \"Mon, 2 Apr 2007 19:41:34 GMT\"\n",
       "}</pre><hr>"
      ],
      "text/plain": [
       "<IPython.core.display.HTML object>"
      ]
     },
     "metadata": {},
     "output_type": "display_data"
    },
    {
     "data": {
      "text/html": [
       "<pre>{\n",
       "  \"title\": \"Pfaffians, hafnians and products of real linear functionals\",\n",
       "  \"created\": \"Mon, 2 Apr 2007 15:36:29 GMT\"\n",
       "}</pre><hr>"
      ],
      "text/plain": [
       "<IPython.core.display.HTML object>"
      ]
     },
     "metadata": {},
     "output_type": "display_data"
    },
    {
     "data": {
      "text/html": [
       "<pre>{\n",
       "  \"title\": \"Understanding the Flavor Symmetry Breaking and Nucleon Flavor-Spin\\n  Structure within Chiral Quark Model\",\n",
       "  \"created\": \"Sat, 31 Mar 2007 14:10:06 GMT\"\n",
       "}</pre><hr>"
      ],
      "text/plain": [
       "<IPython.core.display.HTML object>"
      ]
     },
     "metadata": {},
     "output_type": "display_data"
    },
    {
     "data": {
      "text/html": [
       "<pre>{\n",
       "  \"title\": \"A remark on the number of steady states in a multiple futile cycle\",\n",
       "  \"created\": \"Sat, 31 Mar 2007 15:55:50 GMT\"\n",
       "}</pre><hr>"
      ],
      "text/plain": [
       "<IPython.core.display.HTML object>"
      ]
     },
     "metadata": {},
     "output_type": "display_data"
    },
    {
     "data": {
      "text/html": [
       "<pre>{\n",
       "  \"title\": \"General System theory, Like-Quantum Semantics and Fuzzy Sets\",\n",
       "  \"created\": \"Sat, 31 Mar 2007 17:28:35 GMT\"\n",
       "}</pre><hr>"
      ],
      "text/plain": [
       "<IPython.core.display.HTML object>"
      ]
     },
     "metadata": {},
     "output_type": "display_data"
    },
    {
     "data": {
      "text/html": [
       "<pre>{\n",
       "  \"title\": \"The Hardy-Lorentz Spaces $H^{p,q}(R^n)$\",\n",
       "  \"created\": \"Mon, 2 Apr 2007 18:14:21 GMT\"\n",
       "}</pre><hr>"
      ],
      "text/plain": [
       "<IPython.core.display.HTML object>"
      ]
     },
     "metadata": {},
     "output_type": "display_data"
    },
    {
     "data": {
      "text/html": [
       "<pre>{\n",
       "  \"title\": \"On-line Viterbi Algorithm and Its Relationship to Random Walks\",\n",
       "  \"created\": \"Sat, 31 Mar 2007 23:52:33 GMT\"\n",
       "}</pre><hr>"
      ],
      "text/plain": [
       "<IPython.core.display.HTML object>"
      ]
     },
     "metadata": {},
     "output_type": "display_data"
    },
    {
     "data": {
      "text/html": [
       "<pre>{\n",
       "  \"title\": \"Dynamical Objects for Cohomologically Expanding Maps\",\n",
       "  \"created\": \"Sun, 1 Apr 2007 06:48:47 GMT\"\n",
       "}</pre><hr>"
      ],
      "text/plain": [
       "<IPython.core.display.HTML object>"
      ]
     },
     "metadata": {},
     "output_type": "display_data"
    },
    {
     "data": {
      "text/html": [
       "<pre>{\n",
       "  \"title\": \"A transcendental approach to Koll\\\\'ar's injectivity theorem\",\n",
       "  \"created\": \"Sun, 1 Apr 2007 08:40:19 GMT\"\n",
       "}</pre><hr>"
      ],
      "text/plain": [
       "<IPython.core.display.HTML object>"
      ]
     },
     "metadata": {},
     "output_type": "display_data"
    },
    {
     "data": {
      "text/html": [
       "<pre>{\n",
       "  \"title\": \"Shaping the Globular Cluster Mass Function by Stellar-Dynamical\\n  Evaporation\",\n",
       "  \"created\": \"Sun, 1 Apr 2007 10:20:37 GMT\"\n",
       "}</pre><hr>"
      ],
      "text/plain": [
       "<IPython.core.display.HTML object>"
      ]
     },
     "metadata": {},
     "output_type": "display_data"
    },
    {
     "data": {
      "text/html": [
       "<pre>{\n",
       "  \"title\": \"Geometry of Locally Compact Groups of Polynomial Growth and Shape of\\n  Large Balls\",\n",
       "  \"created\": \"Sun, 1 Apr 2007 16:59:04 GMT\"\n",
       "}</pre><hr>"
      ],
      "text/plain": [
       "<IPython.core.display.HTML object>"
      ]
     },
     "metadata": {},
     "output_type": "display_data"
    },
    {
     "data": {
      "text/html": [
       "<pre>{\n",
       "  \"title\": \"Rigid subsets of symplectic manifolds\",\n",
       "  \"created\": \"Sun, 1 Apr 2007 19:57:30 GMT\"\n",
       "}</pre><hr>"
      ],
      "text/plain": [
       "<IPython.core.display.HTML object>"
      ]
     },
     "metadata": {},
     "output_type": "display_data"
    },
    {
     "data": {
      "text/html": [
       "<pre>{\n",
       "  \"title\": \"Compounding Fields and Their Quantum Equations in the Trigintaduonion\\n  Space\",\n",
       "  \"created\": \"Mon, 2 Apr 2007 07:37:17 GMT\"\n",
       "}</pre><hr>"
      ],
      "text/plain": [
       "<IPython.core.display.HTML object>"
      ]
     },
     "metadata": {},
     "output_type": "display_data"
    },
    {
     "data": {
      "text/html": [
       "<pre>{\n",
       "  \"title\": \"Some aspects of the nonperturbative renormalization of the phi^4 model\",\n",
       "  \"created\": \"Mon, 2 Apr 2007 09:15:03 GMT\"\n",
       "}</pre><hr>"
      ],
      "text/plain": [
       "<IPython.core.display.HTML object>"
      ]
     },
     "metadata": {},
     "output_type": "display_data"
    }
   ],
   "source": [
    "res = collection.find({\n",
    "    \"update_date\": {\n",
    "        \"$gte\": \"2010-01-01\",\n",
    "        \"$lt\": \"2015-01-01\"\n",
    "    },\n",
    "}, {\n",
    "    \"title\": 1,\n",
    "    \"created\": {\n",
    "        \"$arrayElemAt\": [\"$versions.created\", 0]\n",
    "    }\n",
    "},\n",
    "    limit=15\n",
    ")\n",
    "print_articles(res)"
   ]
  },
  {
   "cell_type": "markdown",
   "id": "4ef590c3",
   "metadata": {},
   "source": [
    "#### f. Devolver los títulos, comentarios y reportes técnicos (report-no) de artículos que tengan comentarios definidos y no nulos. Mostrar solo esos campos, ordenando por fecha de actualización (update_date) en orden descendente. Limitar a 10 resultados."
   ]
  },
  {
   "cell_type": "code",
   "execution_count": 37,
   "id": "9e038a37",
   "metadata": {},
   "outputs": [
    {
     "name": "stdout",
     "output_type": "stream",
     "text": [
      "Total de artículos encontrados: 10\n"
     ]
    },
    {
     "data": {
      "text/html": [
       "<pre>{\n",
       "  \"title\": \"Efficient Approximation Schemes for Stochastic Probing and Selection-Stopping Problems\",\n",
       "  \"comments\": \"38 pages; the preliminary version appeared in EC 2021\",\n",
       "  \"report-no\": null\n",
       "}</pre><hr>"
      ],
      "text/plain": [
       "<IPython.core.display.HTML object>"
      ]
     },
     "metadata": {},
     "output_type": "display_data"
    },
    {
     "data": {
      "text/html": [
       "<pre>{\n",
       "  \"title\": \"Dimer Models and Conformal Structures\",\n",
       "  \"comments\": \"111 pages. New restructured version with improved notation and structure, new introduction, references and typos corrected\",\n",
       "  \"report-no\": null\n",
       "}</pre><hr>"
      ],
      "text/plain": [
       "<IPython.core.display.HTML object>"
      ]
     },
     "metadata": {},
     "output_type": "display_data"
    },
    {
     "data": {
      "text/html": [
       "<pre>{\n",
       "  \"title\": \"Statistical quantification of confounding bias in predictive modelling\",\n",
       "  \"comments\": \"20 pages, 7 figures. The manuscript is associated with the the python package `mlconfound`: https://mlconfound.readthedocs.io See manuscript repository, including fully reproducible analysis code, here: https://github.com/pni-lab/mlconfound-manuscript\",\n",
       "  \"report-no\": null\n",
       "}</pre><hr>"
      ],
      "text/plain": [
       "<IPython.core.display.HTML object>"
      ]
     },
     "metadata": {},
     "output_type": "display_data"
    },
    {
     "data": {
      "text/html": [
       "<pre>{\n",
       "  \"title\": \"Asymptotically self-similar shock formation for 1d fractal Burgers equation\",\n",
       "  \"comments\": \"29 pages, corrected minor typos\",\n",
       "  \"report-no\": null\n",
       "}</pre><hr>"
      ],
      "text/plain": [
       "<IPython.core.display.HTML object>"
      ]
     },
     "metadata": {},
     "output_type": "display_data"
    },
    {
     "data": {
      "text/html": [
       "<pre>{\n",
       "  \"title\": \"How to (Un-) Quantum Mechanics\",\n",
       "  \"comments\": \"35 Pages, 1 Figure\",\n",
       "  \"report-no\": null\n",
       "}</pre><hr>"
      ],
      "text/plain": [
       "<IPython.core.display.HTML object>"
      ]
     },
     "metadata": {},
     "output_type": "display_data"
    },
    {
     "data": {
      "text/html": [
       "<pre>{\n",
       "  \"title\": \"Simple zeros of $\\\\mathrm{GL}(2)$ $L$-functions\",\n",
       "  \"comments\": \"32 pages. To appear in JEMS\",\n",
       "  \"report-no\": null\n",
       "}</pre><hr>"
      ],
      "text/plain": [
       "<IPython.core.display.HTML object>"
      ]
     },
     "metadata": {},
     "output_type": "display_data"
    },
    {
     "data": {
      "text/html": [
       "<pre>{\n",
       "  \"title\": \"Reconstruction and interpolation of manifolds II: Inverse problems with partial data for distances observations and for the heat kernel\",\n",
       "  \"comments\": \"journal version, to appear in American Journal of Math\",\n",
       "  \"report-no\": null\n",
       "}</pre><hr>"
      ],
      "text/plain": [
       "<IPython.core.display.HTML object>"
      ]
     },
     "metadata": {},
     "output_type": "display_data"
    },
    {
     "data": {
      "text/html": [
       "<pre>{\n",
       "  \"title\": \"SchemaDB: Structures in Relational Datasets\",\n",
       "  \"comments\": \"Draft\",\n",
       "  \"report-no\": null\n",
       "}</pre><hr>"
      ],
      "text/plain": [
       "<IPython.core.display.HTML object>"
      ]
     },
     "metadata": {},
     "output_type": "display_data"
    },
    {
     "data": {
      "text/html": [
       "<pre>{\n",
       "  \"title\": \"Unsupervisedly Learned Representations: Should the Quest be Over?\",\n",
       "  \"comments\": \"published at The 6th International Conference on Machine Learning, Optimization and Data Science - LOD 2020\",\n",
       "  \"report-no\": null\n",
       "}</pre><hr>"
      ],
      "text/plain": [
       "<IPython.core.display.HTML object>"
      ]
     },
     "metadata": {},
     "output_type": "display_data"
    },
    {
     "data": {
      "text/html": [
       "<pre>{\n",
       "  \"title\": \"Bounded-degree spanning trees in randomly perturbed graphs\",\n",
       "  \"comments\": \"18 pages, 1 figure. Updated version with small change in response to referee feedback\",\n",
       "  \"report-no\": null\n",
       "}</pre><hr>"
      ],
      "text/plain": [
       "<IPython.core.display.HTML object>"
      ]
     },
     "metadata": {},
     "output_type": "display_data"
    }
   ],
   "source": [
    "res = collection.find({\n",
    "    \"comments\": {\n",
    "        \"$exists\": True,\n",
    "        \"$ne\": None\n",
    "    },\n",
    "}, {\n",
    "    \"title\": 1,\n",
    "    \"comments\": 1,\n",
    "    \"report-no\": 1,\n",
    "},\n",
    "    limit=10,\n",
    "    sort=[\n",
    "        (\"update_date\", -1)\n",
    "    ]\n",
    ")\n",
    "print_articles(res)"
   ]
  }
 ],
 "metadata": {
  "kernelspec": {
   "display_name": "base",
   "language": "python",
   "name": "python3"
  },
  "language_info": {
   "codemirror_mode": {
    "name": "ipython",
    "version": 3
   },
   "file_extension": ".py",
   "mimetype": "text/x-python",
   "name": "python",
   "nbconvert_exporter": "python",
   "pygments_lexer": "ipython3",
   "version": "3.12.7"
  }
 },
 "nbformat": 4,
 "nbformat_minor": 5
}
